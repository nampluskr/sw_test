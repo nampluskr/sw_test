{
 "cells": [
  {
   "cell_type": "code",
   "execution_count": 1,
   "metadata": {},
   "outputs": [
    {
     "name": "stdout",
     "output_type": "stream",
     "text": [
      ">> Time = 0, Result = 0\n",
      "- - - - - - - - - -\n",
      "- - - - - - - - - -\n",
      "- - - - - - - - - -\n",
      "- - - - - - - - - -\n",
      "- - - - - - - - - -\n",
      "\n"
     ]
    }
   ],
   "source": [
    "from queue import deque\n",
    "\n",
    "## Global variables\n",
    "N, M, result = int(), int(), int()\n",
    "Q = list()\n",
    "\n",
    "def init(R: int, C: int) -> None:\n",
    "    global N, M, Q, result\n",
    "    \n",
    "    N, M = R, C\n",
    "    Q = deque([])\n",
    "    result = 0\n",
    "    for _ in range(N):\n",
    "        Q.append([[], 0])    ## block, timestamp, length\n",
    "    return\n",
    "\n",
    "def print_result():\n",
    "    print(\">> Time = %d, Result = %d\" % (Q[0][1], result))\n",
    "    for indices, timestamp in Q:\n",
    "        block = ['-' for _ in range(M)]\n",
    "        if len(indices) > 0:\n",
    "            for idx in indices:\n",
    "                if idx > -1:\n",
    "                    block[idx] = 'X'\n",
    "        print(*block)\n",
    "\n",
    "        # length = sum([1 for x in indices if x > -1])\n",
    "        # print(\"[%3d]\" % length, *block, \"T=%d\" % timestamp, indices)\n",
    "    print()\n",
    "\n",
    "init(5, 10)\n",
    "print_result()"
   ]
  },
  {
   "cell_type": "code",
   "execution_count": 2,
   "metadata": {},
   "outputs": [],
   "source": [
    "def drop(timestamp: int, col:int, length: int) -> int:\n",
    "    global N, M, Q, result\n",
    "\n",
    "    cur_timestamp = Q[0][1] + 1\n",
    "    while True:\n",
    "        if cur_timestamp == timestamp:\n",
    "            indices = list(range(col, col + length))\n",
    "            result += len(indices)\n",
    "            Q.appendleft([indices, cur_timestamp])\n",
    "            Q.pop()\n",
    "            break\n",
    "        else:\n",
    "            Q.appendleft([[], cur_timestamp])\n",
    "            Q.pop()\n",
    "            cur_timestamp += 1\n",
    "    return result\n",
    "\n",
    "def remove(timestep: int) -> int:\n",
    "    global N, M, Q, result\n",
    "    \n",
    "    if timestep > Q[0][1]:\n",
    "        drop(timestep, 0, 0)\n",
    "    \n",
    "    for j in range(M):\n",
    "        for i in range(N-1, -1, -1):\n",
    "            if j in Q[i][0]:\n",
    "                idx = Q[i][0].index(j)\n",
    "                Q[i][0][idx] = -1\n",
    "                result -= 1\n",
    "                break\n",
    "    return result"
   ]
  },
  {
   "cell_type": "code",
   "execution_count": 3,
   "metadata": {},
   "outputs": [
    {
     "name": "stdout",
     "output_type": "stream",
     "text": [
      ">> Time = 3, Result = 15\n",
      "- - X X X X X X X -\n",
      "- - - - - - X X X X\n",
      "- X X X X - - - - -\n",
      "- - - - - - - - - -\n",
      "- - - - - - - - - -\n",
      "\n",
      ">> Time = 4, Result = 6\n",
      "- - - - - - - - - -\n",
      "- - X X X - X X X -\n",
      "- - - - - - - - - -\n",
      "- - - - - - - - - -\n",
      "- - - - - - - - - -\n",
      "\n",
      ">> Time = 6, Result = 13\n",
      "- - - X X X X X X X\n",
      "- - - - - - - - - -\n",
      "- - - - - - - - - -\n",
      "- - X X X - X X X -\n",
      "- - - - - - - - - -\n",
      "\n",
      ">> Time = 7, Result = 5\n",
      "- - - - - - - - - -\n",
      "- - - X X - X X X -\n",
      "- - - - - - - - - -\n",
      "- - - - - - - - - -\n",
      "- - - - - - - - - -\n",
      "\n"
     ]
    }
   ],
   "source": [
    "## Test - 1\n",
    "init(5, 10)\n",
    "\n",
    "drop(1, 1, 4)\n",
    "drop(2, 6, 4)\n",
    "drop(3, 2, 7)\n",
    "print_result()\n",
    "\n",
    "remove(4)\n",
    "print_result()\n",
    "\n",
    "drop(6, 3, 7)\n",
    "print_result()\n",
    "\n",
    "remove(7)\n",
    "print_result()"
   ]
  },
  {
   "cell_type": "code",
   "execution_count": null,
   "metadata": {},
   "outputs": [],
   "source": []
  }
 ],
 "metadata": {
  "kernelspec": {
   "display_name": "Python 3.10.4 ('pytorch')",
   "language": "python",
   "name": "python3"
  },
  "language_info": {
   "codemirror_mode": {
    "name": "ipython",
    "version": 3
   },
   "file_extension": ".py",
   "mimetype": "text/x-python",
   "name": "python",
   "nbconvert_exporter": "python",
   "pygments_lexer": "ipython3",
   "version": "3.10.4"
  },
  "orig_nbformat": 4,
  "vscode": {
   "interpreter": {
    "hash": "2942cd73c98f42e378622c778becd0c5a89798f53398894ef73639bee8f37a93"
   }
  }
 },
 "nbformat": 4,
 "nbformat_minor": 2
}
